{
 "cells": [
  {
   "cell_type": "code",
   "execution_count": 1,
   "id": "381f433d",
   "metadata": {},
   "outputs": [],
   "source": [
    "# implementiere kruskal mit naivem union find (O(1) für find, O(n) für Union aber amortisiert besser)"
   ]
  },
  {
   "cell_type": "code",
   "execution_count": 2,
   "id": "3415464f",
   "metadata": {},
   "outputs": [],
   "source": [
    "# implementiere kruskal mit verbessertem union find (pointer zeigen auf den mit längstem weg)"
   ]
  },
  {
   "cell_type": "code",
   "execution_count": 3,
   "id": "25be880d",
   "metadata": {},
   "outputs": [],
   "source": [
    "# visualisiere verschmelzungsprozess von kruskal"
   ]
  },
  {
   "cell_type": "code",
   "execution_count": 4,
   "id": "0c2528fc",
   "metadata": {},
   "outputs": [],
   "source": [
    "# implementiere path compression"
   ]
  },
  {
   "cell_type": "code",
   "execution_count": null,
   "id": "e4ca28f8",
   "metadata": {},
   "outputs": [],
   "source": []
  }
 ],
 "metadata": {
  "kernelspec": {
   "display_name": "Python 3 (ipykernel)",
   "language": "python",
   "name": "python3"
  },
  "language_info": {
   "codemirror_mode": {
    "name": "ipython",
    "version": 3
   },
   "file_extension": ".py",
   "mimetype": "text/x-python",
   "name": "python",
   "nbconvert_exporter": "python",
   "pygments_lexer": "ipython3",
   "version": "3.9.7"
  }
 },
 "nbformat": 4,
 "nbformat_minor": 5
}
