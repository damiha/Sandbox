{
 "cells": [
  {
   "cell_type": "code",
   "execution_count": 36,
   "id": "6c8a602e",
   "metadata": {},
   "outputs": [],
   "source": [
    "import numpy as np\n",
    "import matplotlib.pyplot as plt\n",
    "\n",
    "# a und b sind zwei vektoren (muessen nicht gleiche laenge haben)\n",
    "# das ergebnis ist wieder ein vektor\n",
    "\n",
    "# wenn beide vektoren a und b n Eintraege haben\n",
    "# hat diese implementierung der konvolution O(n^2) Laufzeit\n",
    "def convolution(a, b):\n",
    "    \n",
    "    m = len(a)\n",
    "    n = len(b)\n",
    "    \n",
    "    # a = a_0, a_1, a_2, ..., a_m-1\n",
    "    # b = b_0, b_1, b_2, ..., b_n-1\n",
    "    \n",
    "    # welche laenge hat der zielvektor\n",
    "    # wie viele diagonalen von rechts oben nach links unten gibt es in einem rechteck mit dimensionen mxn?\n",
    "    # jeder punkt in der ersten zeile (von links nach rechts) identifiziert eine diagonale => n\n",
    "    # jeder punkt in der ersten spalte letztes element identifiziert eine gerade => m\n",
    "    # die diagonale, die in der ecke rechts oben beginnt wird doppelt gezaehlt => -1\n",
    "    # insgesamt n + m - 1 = Laenge des konvolutionsvektors\n",
    "    conv = np.zeros(m + n - 1)\n",
    "    \n",
    "    for k in range(m + n - 1):\n",
    "        \n",
    "        for i in range(m):\n",
    "            j = k - i\n",
    "            \n",
    "            if 0 <= j < n:\n",
    "                conv[k] += (a[i] * b[j])\n",
    "                \n",
    "    return conv"
   ]
  },
  {
   "cell_type": "code",
   "execution_count": null,
   "id": "a4dba2f0",
   "metadata": {},
   "outputs": [],
   "source": [
    "# die inputs sind beide in O(n) und der output ist auch in O(n) (da 2n-1)\n",
    "# es gibt keinen offensichtlichen Grund, warum die convolution in O(n^2) sein sollte\n",
    "\n",
    "# funktioniert nur fuer len(a) == len(b) == n und n ist eine zweier potenz\n",
    "\n",
    "# wir nutzen convolution, um die koeffizienten eines polynoms c = a * b zu berechnen\n",
    "# a und b polynome, die durch koeffizienten charakterisiert werden\n",
    "# in FFT gehen wir in die andere Richtung\n",
    "# also wir rechnen die koeffizienten aus und dann schliessen wir auf die konvolution\n",
    "\n",
    "# polynom a0 + a1 * x^1 + a2 * x^2....\n",
    "# polynom b0 + b1 * x^1 + b2 * x^2....\n",
    "# wir koennen die fuer punkte x_1, ...x_n die polynome a und b auswerten (naiv dauert das O(n^2))\n",
    "\n",
    "# dann koennen wir c(x_1) = a(x_1) * b(x_1) berechnen\n",
    "# also koennen wir auf die ergebnisse des multiplizierten polynoms in O(n) ausrechnen\n",
    "\n",
    "# wenn wir die polynome a und b in VALUE REPRESENTATION haetten (also ausgewertet an 2n verschiedenen punkten)\n",
    "# dann koennen wir c = a * b in VALUE REPRESENTATION durch 2*n multiplikationen also in O(n) erhalten\n",
    "# von VALUE REPRESENTATION nach VALUE REPRESENTATION dauert es nur O(n)\n",
    "# aber wir wollen wieder die COEFFICIENT REPRESENTATION haben\n",
    "\n",
    "# danach machen wir eine polynominterpolation (wir haben 2n punkte und das reicht)\n",
    "# um die koeffizienten eines polynoms vom grad 2*n - 2 (hoechster grad von a und b jeweiles n-1)\n",
    "# zu rekonstruieren\n",
    "\n",
    "# auch polynominterpolation kann teuer sein\n",
    "# Wir beschleunigen es, indem wir die 2n-ten einheitswurzeln nehmen (das sind genau 2n stueck)\n",
    "\n",
    "# generell: wenn wir die 2n punkte clever waehlen, dann bekommen wir durch eine Funktionsauswertung\n",
    "# mehrere punkte. bei einer geraden funktion wie f(x) = x^2 bekommen wir fuer jeden wert x den punkt\n",
    "# (x, f(x)) und den punkt (-x, f(x)) raus\n",
    "# fuer eine ungerade funktion wie f(x) = x^3 bekommen wir als Gegenpart zu (x, f(x)) den Punkt\n",
    "# (-x, -f(x)) gratis dazu\n",
    "\n",
    "# jedes polynom (grundsaetzlich jede funktion) laesst sich in einen geraden und einen ungeraden teil aufsplitten\n",
    "# (siehe linalg, basis des funktionenraums)"
   ]
  },
  {
   "cell_type": "code",
   "execution_count": 60,
   "id": "3856c7f8",
   "metadata": {},
   "outputs": [],
   "source": [
    "# wir haben ein polynom in coefficient representation und werten es an den einheitswurzeln aus\n",
    "# wir gehen davon aus, dass das polynom p n koeffizienten hat und n eine zweierpotenz ist\n",
    "# dann koennen wir naemlich immer die koeffizienten in gerade und ungerade perfekt aufteilen\n",
    "# und wenn es nicht mehr geht, dann ist n = 1 und wir sind beim base case\n",
    "def fft(p):\n",
    "    \n",
    "    n = len(p)\n",
    "    \n",
    "    # wir haben alle n n-ten einheitswurzeln miteinander multipliziert und 1 rausbekommen\n",
    "    # das polynom hat nur noch einen koeffizienten also geben die eine liste mit einem ausgewerteten punkt zurueck\n",
    "    if n == 1:\n",
    "        return p\n",
    "    \n",
    "    # koennen wir immer perfekt aufteilen\n",
    "    # jedes polynom f(x) laesst sich in gerade und ungerade terme aufspalten\n",
    "    # f(x) = f_even(x) + f_odd(x)\n",
    "    # wenn wir fuer f_even nur die geraden koeffizienten sammeln, dann shiften wir alle koeffizienten\n",
    "    # d.h. vierter koeffizient jetzt auf zweiter position\n",
    "    # das veraendert eigentlich das polynom (jetzt z.B. nicht mehr f(x) = x^4 + x^2 [0, 0, 1, 0, 1] sondern\n",
    "    # [0, 1, 1] = g(x) = x + x^2 also ein kleineres polynom\n",
    "    # damit der wert erhalten bleibt werden wir das kleinere polynom an einer groesseren stelle x^2 auswerten\n",
    "    even_p = [p[i] for i in range(0, n, 2)]\n",
    "    odd_p = [p[i] for i in range(1, n, 2)]\n",
    "    \n",
    "    # hier bekommen wir die werte wenn wir die kleinere polynome mit w_0, w_2... also den n/2 einheitswurzeln auswerten\n",
    "    y_even = fft(even_p)\n",
    "    y_odd = fft(odd_p)\n",
    "    \n",
    "    w = np.exp(1j * 2.0 * np.pi / n)\n",
    "    \n",
    "    y = [0] * n\n",
    "    \n",
    "    for i in range(int(n / 2)):\n",
    "        y[i] = y_even[i] + np.power(w, i) * y_odd[i]\n",
    "        \n",
    "        y[i + int(n / 2)] = y_even[i] - np.power(w, i) * y_odd[i]\n",
    "    \n",
    "    return y"
   ]
  },
  {
   "cell_type": "code",
   "execution_count": 72,
   "id": "be2d4af9",
   "metadata": {},
   "outputs": [],
   "source": [
    "# die fft wertet ein polynom mit n-koeffizienten in O(n log n) an n stellen (speziell den n-ten einheitswurzeln) aus\n",
    "# an anderen stellen waere das nur in O(n^2) moeglich\n",
    "# d.h. mit der fft kommen wir von COEFFICIENT REPRESENTATION nach VALUE REPRESENTATION (n punkte reichen fuer polynom\n",
    "# von grad n-1 aus) in O(n log n)\n",
    "# mit ifft kommen wir von VALUE REPRESENTATION nach COEFFICIENT REPRESENTATION in O(n log n)\n",
    "# der vorgang VALUE REPRESENTATION nach COEFFICIENT REPRESENTATION heisst INTERPOLATION\n",
    "def ifft(points):\n",
    "    \n",
    "    n = len(points)\n",
    "    \n",
    "    return np.array(ifft_helper(points)) / n\n",
    "    \n",
    "def ifft_helper(points):\n",
    "    \n",
    "    n = len(points)\n",
    "    \n",
    "    if n == 1:\n",
    "        # wenn man ein polynom von grad 0 an 1 auswertet bekommt man genau den koeffizienten p_0 raus\n",
    "        return points\n",
    "    \n",
    "    # das ist das einzige, was sich am algorithmus aendert\n",
    "    # haengt damit zusammen, dass die inverse der dft matrix eine vorhersehbare struktur hat\n",
    "    # normalerweise ist polynominterpolation in O(n^3) (also point sampling) weil wir eine Matrix invertieren muessen\n",
    "    # hier muessen wir nichts invertieren, weil die inverse der dft matrix ein theoretisches resultat ist\n",
    "    # die polynominterpolation indem man einfach die punkte mit der inversen multipliziert nennt man dann IDFT\n",
    "    # (inverse diskrete fourier transformation) und die ist in O(n^2)\n",
    "    \n",
    "    w = np.exp(-1j * 2 * np.pi / n)\n",
    "    \n",
    "    even_points = [points[i] for i in range(0, n, 2)]\n",
    "    odd_points = [points[i] for i in range(1, n, 2)]\n",
    "    \n",
    "    y_even = ifft_helper(even_points)\n",
    "    y_odd = ifft_helper(odd_points)\n",
    "    \n",
    "    y = [0] * n\n",
    "    \n",
    "    for i in range(int(n / 2)):\n",
    "        \n",
    "        y[i] = y_even[i] + np.power(w, i) * y_odd[i]\n",
    "        y[i + int(n / 2)] = y_even[i] - np.power(w, i) * y_odd[i]\n",
    "        \n",
    "    return y"
   ]
  },
  {
   "cell_type": "code",
   "execution_count": 78,
   "id": "58887d84",
   "metadata": {},
   "outputs": [
    {
     "name": "stdout",
     "output_type": "stream",
     "text": [
      "Input polynomial:  [0, 0, 1, 0, 0, 0, 0, 0]\n",
      "Result of the fft:  [ 1.+0.j  0.+1.j -1.+0.j -0.-1.j  1.+0.j  0.+1.j -1.+0.j -0.-1.j]\n",
      "Result of the ifft:  [0. 0. 1. 0. 0. 0. 0. 0.]\n"
     ]
    }
   ],
   "source": [
    "# wird an den vierten einheitswurzeln [1, i, -1, -i] ausgewertet\n",
    "# f = [0, 0, 1, 0]\n",
    "# degree muss immer eine zweierpotenz sein\n",
    "# 1^2 = 1, i^2 = -1, (-1)^2 = 1, (-i)^2 = -1\n",
    "a = [0, 0, 1, 0, 0, 0, 0, 0]\n",
    "fft_res = np.round(fft(a), decimals=3)\n",
    "ifft_res = np.round(ifft(fft_res), decimals = 3).real\n",
    "\n",
    "print(\"Input polynomial: \", a)\n",
    "\n",
    "print(\"Result of the fft: \", fft_res)\n",
    "print(\"Result of the ifft: \", ifft_res)"
   ]
  },
  {
   "cell_type": "markdown",
   "id": "ba80fbb5",
   "metadata": {},
   "source": [
    "Wenn man uns ein Polynom in Koeffizientendarstellung gibt, koennen wir es in O(n log n) auswerten, anstatt in O(n^2)\n",
    "Wir koennen es aber nur in den n-ten Einheitswurzeln auswerten (wenn das polynom grad n-1) hat\n",
    "Da die nten Einheitswurzeln alle eindeutig sind,  wir koennen in O(n log n) ein polynom von COEFFICIENT-\n",
    "in VALUE REPRESENTATION umwandeln (normal wuerden wir O(n^2) Operationen brauchen).\n",
    "Ausserdem koennen wir aus n Punkten (sofern es sich um die nten Einheitswurzeln, an denen ausgewertet wurde, handelt) ein Polynom auch in O(n log n) interpolieren, also von der VALUE REPRESENTATION in die COEFFICIENT REPRESENTATION umwandeln (mit newton-interpolation dauert das O(n^2) oder mit einfacher Matrixinversion O(n^3))"
   ]
  },
  {
   "cell_type": "code",
   "execution_count": 94,
   "id": "4c72bb86",
   "metadata": {},
   "outputs": [],
   "source": [
    "def fft_convolution(a, b):\n",
    "    \n",
    "    m = len(a)\n",
    "    n = len(b)\n",
    "    \n",
    "    n_entries = int(2**np.ceil(np.log2(max(m, n))))\n",
    "    \n",
    "    # padding (unsere fft implementierung verlangt, dass die polynome beide gleichviele koeffizienten haben)\n",
    "    # und die anzahl der koeffizienten eine zweier potenz ist\n",
    "    a = np.append(a, np.zeros(n_entries-m))\n",
    "    b = np.append(b, np.zeros(n_entries-n))\n",
    "    \n",
    "    # in value representation (dauert O(n log n))\n",
    "    points_a = fft(a)\n",
    "    points_b = fft(b)\n",
    "    \n",
    "    # multiplikation in value representation ist in O(n) machbar\n",
    "    c_points = np.array(points_a) * np.array(points_b)\n",
    "    \n",
    "    # interpolation wieder in O(n log n) moeglich\n",
    "    # das ergebnis einer konvolution reeler vektoren ist ein reeler vektor\n",
    "    return ifft(c_points)[:(m+n-1)].real"
   ]
  },
  {
   "cell_type": "code",
   "execution_count": 97,
   "id": "cfe14918",
   "metadata": {},
   "outputs": [],
   "source": [
    "# a = x + 1, b = x^4 + x^2\n",
    "# c = a * b = x^5 + x^4 + x^3 + x^2\n",
    "a = [1, 1]\n",
    "b = [0,0,1, 0, 1]\n",
    "\n",
    "c_fft = fft_convolution(a, b)\n",
    "c_slow = convolution(a, b)\n",
    "\n",
    "assert(np.all(np.isclose(c_fft, c_slow)))"
   ]
  },
  {
   "cell_type": "markdown",
   "id": "b10df5f3",
   "metadata": {},
   "source": [
    "Die FFT (fast fourier transform) ist der wichtigste Bestandteil des schnellen Convolution-Algorithmus\n",
    "Die Laufzeit wird von O(n^2) auf O(n log n) reduziert (man braucht O(n log n) um in die VALUE REPRESENTATION um zu wandeln, dann O(n) um in der VALUE REPRESENTATION die Polynommultiplikation durchzufuehren und dann O(n log n) um den konvolutionsvektor, also die COEFFICIENT REPRESENTATION durch Interpolation zu erhalten"
   ]
  },
  {
   "cell_type": "code",
   "execution_count": 37,
   "id": "85ead17b",
   "metadata": {},
   "outputs": [],
   "source": [
    "# ein polynom vom Grad n ist eindeutig durch koeffizienten a_0, ..., a_n definiert\n",
    "def evaluate_polynomial(a, x):\n",
    "\n",
    "    x_pot = 1\n",
    "    val = 0\n",
    "    \n",
    "    for i in range(len(a)):\n",
    "        val += (x_pot * a[i])\n",
    "        x_pot *= x\n",
    "    \n",
    "    return val"
   ]
  },
  {
   "cell_type": "code",
   "execution_count": 38,
   "id": "7df84d91",
   "metadata": {},
   "outputs": [],
   "source": [
    "def get_poly_string(p):\n",
    "    \n",
    "    string = \"\"\n",
    "    n = len(p)\n",
    "    \n",
    "    for i in range(n):\n",
    "        term_string = \"\" if p[i] == 0 else f\"{abs(p[i])}x^{i}\"\n",
    "        sign_string = \" + \" if p[i] >= 0 else \" - \"\n",
    "        \n",
    "        if term_string != \"\":\n",
    "            string = sign_string + term_string + string\n",
    "    \n",
    "    # erstes vz entfernen\n",
    "    return string[2:]"
   ]
  },
  {
   "cell_type": "code",
   "execution_count": 39,
   "id": "c1d160db",
   "metadata": {},
   "outputs": [
    {
     "name": "stdout",
     "output_type": "stream",
     "text": [
      " 1x^2 + 1x^0\n"
     ]
    }
   ],
   "source": [
    "print(get_poly_string([1, 0, 1]))"
   ]
  },
  {
   "cell_type": "code",
   "execution_count": 40,
   "id": "26c9ab39",
   "metadata": {},
   "outputs": [],
   "source": [
    "def plot_polynomials(polynomials, start, end, title, samples=100):\n",
    "    \n",
    "    xs = np.linspace(start, end, samples)\n",
    "    plt.title(title)\n",
    "    \n",
    "    for ix, p in enumerate(polynomials):\n",
    "        ys = np.zeros(samples)\n",
    "        for i in range(samples):\n",
    "            ys[i] = evaluate_polynomial(p, xs[i])\n",
    "        \n",
    "        plt.plot(xs, ys, label=f\"{get_poly_string(p)}\")\n",
    "    \n",
    "    plt.legend()\n",
    "    plt.show()"
   ]
  },
  {
   "cell_type": "code",
   "execution_count": 99,
   "id": "39cc9702",
   "metadata": {},
   "outputs": [
    {
     "data": {
      "image/png": "[encoded data removed]",
      "text/plain": [
       "<Figure size 640x480 with 1 Axes>"
      ]
     },
     "metadata": {},
     "output_type": "display_data"
    }
   ],
   "source": [
    "p1 = np.array([0, 1, 1])\n",
    "p2 = np.array([1, 2])\n",
    "p3 = convolution(p1, p2)\n",
    "\n",
    "p3_fft = fft_convolution(p1, p2)\n",
    "assert(np.all(np.isclose(p3, p3_fft)))\n",
    "\n",
    "plot_polynomials([p1, p2, p3], -3, 3, title=\"Convolution for polynomial multiplication\")"
   ]
  },
  {
   "cell_type": "code",
   "execution_count": null,
   "id": "436ad5d7",
   "metadata": {},
   "outputs": [],
   "source": []
  }
 ],
 "metadata": {
  "kernelspec": {
   "display_name": "Python 3 (ipykernel)",
   "language": "python",
   "name": "python3"
  },
  "language_info": {
   "codemirror_mode": {
    "name": "ipython",
    "version": 3
   },
   "file_extension": ".py",
   "mimetype": "text/x-python",
   "name": "python",
   "nbconvert_exporter": "python",
   "pygments_lexer": "ipython3",
   "version": "3.9.7"
  }
 },
 "nbformat": 4,
 "nbformat_minor": 5
}
