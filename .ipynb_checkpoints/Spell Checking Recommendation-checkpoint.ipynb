{
 "cells": [
  {
   "cell_type": "code",
   "execution_count": 27,
   "id": "c0685c33",
   "metadata": {},
   "outputs": [],
   "source": [
    "import numpy as np\n",
    "\n",
    "words = []\n",
    "\n",
    "# 10k woerter von https://www.mit.edu/~ecprice/wordlist.10000\n",
    "with open(\"words.txt\") as file:\n",
    "    words = file.readlines()\n",
    "    \n",
    "words = list(map(lambda w : w.replace(\"\\n\", \"\"), words))"
   ]
  },
  {
   "cell_type": "code",
   "execution_count": 44,
   "id": "27c3f206",
   "metadata": {},
   "outputs": [],
   "source": [
    "def distance_letters(first, second):\n",
    "    \n",
    "    if first == second:\n",
    "        return 0\n",
    "    \n",
    "    vowels = \"aeiou\"\n",
    "    \n",
    "    commonly_confused = [\"dt\", \"pb\", \"sz\", \"vw\", \"ae\", \"ou\", \"mn\", \"iy\", \"gk\"]\n",
    "    \n",
    "    if (first+second) in commonly_confused or (second+first) in commonly_confused:\n",
    "        return 0.5\n",
    "    \n",
    "    if (first in vowels and second in vowels) or (first not in vowels and second not in vowels):\n",
    "        return 1\n",
    "    else:\n",
    "        return 3"
   ]
  },
  {
   "cell_type": "code",
   "execution_count": 45,
   "id": "4d2dfc1e",
   "metadata": {},
   "outputs": [],
   "source": [
    "def distance_words(first, second):\n",
    "    \n",
    "    first = first.lower()\n",
    "    second = second.lower()\n",
    "    \n",
    "    n = len(first)\n",
    "    m = len(second)\n",
    "    \n",
    "    gap_penalty = 2   \n",
    "    \n",
    "    opt = np.zeros((n + 1, m + 1))\n",
    "    \n",
    "    # keine buchstaben im zweiten string mehr, aber noch im ersten\n",
    "    opt[1:n+ 1, 0] = [i * gap_penalty for i in range(1, n + 1)]\n",
    "    # keine buchstaben im ersten string mehr, aber noch i im zweiten\n",
    "    opt[0, 1:m + 1] = [i * gap_penalty for i in range(1, m + 1)]\n",
    "    \n",
    "    for i in range(1, n + 1):\n",
    "        for j in range(1, m + 1):\n",
    "            \n",
    "            c_first = first[i-1]\n",
    "            c_second = second[j-1]\n",
    "            \n",
    "            matchBoth = distance_letters(c_first, c_second) + opt[i-1][j-1]\n",
    "            \n",
    "            skipFirst = gap_penalty + opt[i-1][j]\n",
    "            \n",
    "            skipSecond = gap_penalty + opt[i][j-1]\n",
    "            \n",
    "            opt[i][j] = min(matchBoth, skipFirst, skipSecond)\n",
    "            \n",
    "    return opt[n][m]            "
   ]
  },
  {
   "cell_type": "code",
   "execution_count": 46,
   "id": "bbddb9e1",
   "metadata": {},
   "outputs": [],
   "source": [
    "def find_k_most_similar(word, words, k=10):\n",
    "    \n",
    "    word_similarities = dict()\n",
    "    \n",
    "    for other_word in words:\n",
    "        word_similarities[other_word] = distance_words(word, other_word)\n",
    "        \n",
    "    # sortiere aufsteigend nach distanz (d.h. aehnlichste zuerst)\n",
    "    most_similar_words = sorted(word_similarities.items(), key=lambda item: item[1])[:k]\n",
    "    \n",
    "    return most_similar_words"
   ]
  },
  {
   "cell_type": "code",
   "execution_count": 47,
   "id": "1882b30a",
   "metadata": {},
   "outputs": [
    {
     "data": {
      "text/plain": [
       "[('fruit', 0.0),\n",
       " ('fluid', 1.5),\n",
       " ('fruits', 2.0),\n",
       " ('float', 2.5),\n",
       " ('floyd', 2.5),\n",
       " ('fraud', 2.5),\n",
       " ('trout', 2.5),\n",
       " ('brain', 3.0),\n",
       " ('broad', 3.0),\n",
       " ('craig', 3.0)]"
      ]
     },
     "execution_count": 47,
     "metadata": {},
     "output_type": "execute_result"
    }
   ],
   "source": [
    "find_k_most_similar(\"fruit\", words)"
   ]
  },
  {
   "cell_type": "code",
   "execution_count": 48,
   "id": "61041d68",
   "metadata": {},
   "outputs": [
    {
     "data": {
      "text/plain": [
       "[('hand', 0.0),\n",
       " ('band', 1.0),\n",
       " ('hang', 1.0),\n",
       " ('hans', 1.0),\n",
       " ('hard', 1.0),\n",
       " ('land', 1.0),\n",
       " ('rand', 1.0),\n",
       " ('sand', 1.0),\n",
       " ('bend', 1.5),\n",
       " ('cant', 1.5)]"
      ]
     },
     "execution_count": 48,
     "metadata": {},
     "output_type": "execute_result"
    }
   ],
   "source": [
    "find_k_most_similar(\"hand\", words)"
   ]
  },
  {
   "cell_type": "code",
   "execution_count": 49,
   "id": "bd4fdf63",
   "metadata": {},
   "outputs": [
    {
     "data": {
      "text/plain": [
       "[('crown', 0.0),\n",
       " ('brown', 1.0),\n",
       " ('crowd', 1.0),\n",
       " ('grown', 1.0),\n",
       " ('crops', 2.0),\n",
       " ('cross', 2.0),\n",
       " ('drawn', 2.0),\n",
       " ('grows', 2.0),\n",
       " ('known', 2.0),\n",
       " ('shown', 2.0)]"
      ]
     },
     "execution_count": 49,
     "metadata": {},
     "output_type": "execute_result"
    }
   ],
   "source": [
    "find_k_most_similar(\"crown\", words)"
   ]
  },
  {
   "cell_type": "code",
   "execution_count": null,
   "id": "47a1a84b",
   "metadata": {},
   "outputs": [],
   "source": []
  }
 ],
 "metadata": {
  "kernelspec": {
   "display_name": "Python 3 (ipykernel)",
   "language": "python",
   "name": "python3"
  },
  "language_info": {
   "codemirror_mode": {
    "name": "ipython",
    "version": 3
   },
   "file_extension": ".py",
   "mimetype": "text/x-python",
   "name": "python",
   "nbconvert_exporter": "python",
   "pygments_lexer": "ipython3",
   "version": "3.9.7"
  }
 },
 "nbformat": 4,
 "nbformat_minor": 5
}
