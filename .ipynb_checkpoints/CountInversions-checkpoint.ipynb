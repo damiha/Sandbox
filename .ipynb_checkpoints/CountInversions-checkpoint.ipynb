{
 "cells": [
  {
   "cell_type": "code",
   "execution_count": 7,
   "id": "611b4bdc",
   "metadata": {},
   "outputs": [],
   "source": [
    "def naive_count(elements):\n",
    "    \n",
    "    count = 0\n",
    "    \n",
    "    # we know that i < j since we set up the for loop this way\n",
    "    for i in range(len(elements)):\n",
    "        for j in range(i + 1, len(elements)):\n",
    "            \n",
    "            if elements[i] > elements[j]:\n",
    "                count += 1\n",
    "                \n",
    "    return count"
   ]
  },
  {
   "cell_type": "code",
   "execution_count": 12,
   "id": "3b962277",
   "metadata": {},
   "outputs": [],
   "source": [
    "def count_and_sort(elements):\n",
    "    \n",
    "    if len(elements) == 1:\n",
    "        return 0, elements\n",
    "    \n",
    "    # split into two subarrays\n",
    "    n = len(elements)\n",
    "    n2 = int(n / 2)\n",
    "    left = elements[:n2]\n",
    "    right = elements[n2:]\n",
    "    \n",
    "    left_inv, sorted_left = count_and_sort(left)\n",
    "    right_inv, sorted_right = count_and_sort(right)\n",
    "    \n",
    "    # merging routine\n",
    "    sorted_arr = []\n",
    "    i = 0\n",
    "    j = 0\n",
    "    \n",
    "    split_inversions = 0\n",
    "    \n",
    "    while i < len(left) and j < len(right):\n",
    "        \n",
    "        if sorted_left[i] < sorted_right[j]:\n",
    "            sorted_arr.append(sorted_left[i])\n",
    "            i += 1\n",
    "            \n",
    "        else:\n",
    "            sorted_arr.append(sorted_right[j])\n",
    "            j += 1\n",
    "            \n",
    "            elements_in_left = len(left) - i\n",
    "            \n",
    "            split_inversions += elements_in_left\n",
    "            \n",
    "    # copy over\n",
    "    if i < len(left):\n",
    "        sorted_arr += sorted_left[i:]\n",
    "        \n",
    "    elif j < len(right):\n",
    "        sorted_arr += sorted_right[j:]\n",
    "        \n",
    "    return (left_inv + right_inv + split_inversions), sorted_arr"
   ]
  },
  {
   "cell_type": "code",
   "execution_count": 14,
   "id": "8778bffa",
   "metadata": {},
   "outputs": [
    {
     "name": "stdout",
     "output_type": "stream",
     "text": [
      "[1, 3, 2, 4, 0]   5   5\n",
      "[0, 4, 3, 1, 2]   5   5\n",
      "[1, 0, 3, 2, 4]   2   2\n",
      "[3, 4, 0, 1, 2]   6   6\n",
      "[0, 2, 4, 3, 1]   4   4\n",
      "[4, 0, 1, 3, 2]   5   5\n",
      "[2, 4, 0, 1, 3]   5   5\n",
      "[1, 2, 3, 4, 0]   4   4\n",
      "[0, 1, 3, 4, 2]   2   2\n",
      "[4, 2, 0, 3, 1]   7   7\n"
     ]
    }
   ],
   "source": [
    "# counting inversions (e.g. useful for computing similarity between two rankings)\n",
    "import itertools\n",
    "import random\n",
    "\n",
    "n = 5\n",
    "\n",
    "for i in range(10):\n",
    "    \n",
    "    permutations = list(itertools.permutations(range(n)))\n",
    "    random_permutation = list(random.choice(permutations))\n",
    "    \n",
    "    inversions, sorted_arr = count_and_sort(random_permutation)\n",
    "    \n",
    "    print(random_permutation, \" \", naive_count(random_permutation), \" \", inversions)"
   ]
  },
  {
   "cell_type": "code",
   "execution_count": null,
   "id": "828e6084",
   "metadata": {},
   "outputs": [],
   "source": []
  }
 ],
 "metadata": {
  "kernelspec": {
   "display_name": "Python 3 (ipykernel)",
   "language": "python",
   "name": "python3"
  },
  "language_info": {
   "codemirror_mode": {
    "name": "ipython",
    "version": 3
   },
   "file_extension": ".py",
   "mimetype": "text/x-python",
   "name": "python",
   "nbconvert_exporter": "python",
   "pygments_lexer": "ipython3",
   "version": "3.9.7"
  }
 },
 "nbformat": 4,
 "nbformat_minor": 5
}
