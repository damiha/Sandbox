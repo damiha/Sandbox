{
 "cells": [
  {
   "cell_type": "markdown",
   "id": "16def347",
   "metadata": {},
   "source": [
    "- discretize time series data as states of markov chain\n",
    "- estimate transition probabilities\n",
    "- calculate probabilities of a sequence and fit threshold hyperparameter on validation set\n",
    "- evaluate accuracy in anomaly detection\n",
    "\n",
    "- possible use cases (bot detection: how likely is a sentence human)\n",
    "\n",
    "- each word is a state\n",
    "- estimate transition between words\n",
    "- detect whether bot or human\n",
    "\n",
    "- convert to higher order markov chain (n gram approach) to see if that increases the accuracy)"
   ]
  },
  {
   "cell_type": "code",
   "execution_count": null,
   "id": "479793f2",
   "metadata": {},
   "outputs": [],
   "source": []
  }
 ],
 "metadata": {
  "kernelspec": {
   "display_name": "Python 3 (ipykernel)",
   "language": "python",
   "name": "python3"
  },
  "language_info": {
   "codemirror_mode": {
    "name": "ipython",
    "version": 3
   },
   "file_extension": ".py",
   "mimetype": "text/x-python",
   "name": "python",
   "nbconvert_exporter": "python",
   "pygments_lexer": "ipython3",
   "version": "3.9.7"
  }
 },
 "nbformat": 4,
 "nbformat_minor": 5
}
