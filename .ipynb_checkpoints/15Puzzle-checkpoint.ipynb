{
 "cells": [
  {
   "cell_type": "code",
   "execution_count": 3,
   "id": "de3fe991",
   "metadata": {},
   "outputs": [],
   "source": [
    "from ipycanvas import Canvas\n",
    "import numpy as np"
   ]
  },
  {
   "cell_type": "code",
   "execution_count": 63,
   "id": "29fb123d",
   "metadata": {},
   "outputs": [],
   "source": [
    "puzzle = [\n",
    "    [1, 2, 3, 4],\n",
    "    [5, 0, 7, 8],\n",
    "    [9, 10, 11, 12],\n",
    "    [13, 14, 15, 6]\n",
    "]\n",
    "\n",
    "puzzle = np.array(puzzle)"
   ]
  },
  {
   "cell_type": "code",
   "execution_count": 93,
   "id": "49010635",
   "metadata": {},
   "outputs": [],
   "source": [
    "canvas_width = 400\n",
    "canvas_height = 400\n",
    "\n",
    "tile_width = canvas_width / 4\n",
    "tile_height = canvas_height / 4\n",
    "\n",
    "canvas = Canvas(width = canvas_width, height = canvas_height, sync_image_data=True)"
   ]
  },
  {
   "cell_type": "code",
   "execution_count": 94,
   "id": "85d9e869",
   "metadata": {},
   "outputs": [
    {
     "data": {
      "application/vnd.jupyter.widget-view+json": {
       "model_id": "b74385de981f4ea194002cb433029bdb",
       "version_major": 2,
       "version_minor": 0
      },
      "text/plain": [
       "Canvas(height=400, sync_image_data=True, width=400)"
      ]
     },
     "metadata": {},
     "output_type": "display_data"
    }
   ],
   "source": [
    "def draw_puzzle(puzzle):\n",
    "    canvas.clear()\n",
    "    for i in range(4):\n",
    "        for j in range(4):\n",
    "            canvas.stroke_rect(j * tile_width, i * tile_height, tile_width, tile_height)\n",
    "            \n",
    "            if puzzle[i, j] != 0:\n",
    "                canvas.stroke_text(str(puzzle[i, j]), int((j + 0.5) * tile_width), int((i + 0.5) * tile_height))\n",
    "\n",
    "def draw_arrow(from_tile, to_tile):\n",
    "    \n",
    "    from_x = int((from_tile[0] + 0.5) * tile_width)\n",
    "    from_y = int((from_tile[1] + 0.5) * tile_height)\n",
    "    \n",
    "    to_x = int((to_tile[0] + 0.5) * tile_width)\n",
    "    to_y = int((to_tile[1] + 0.5) * tile_height)\n",
    "    \n",
    "    dist = to_tile - from_tile\n",
    "    \n",
    "    dist_offset = 20\n",
    "    to_x -= int(dist_offset * dist[0])\n",
    "    to_y -= int(dist_offset * dist[1])\n",
    "    \n",
    "    canvas.stroke_style = \"red\"\n",
    "    canvas.line_width = 2.0\n",
    "    canvas.stroke_line(from_x, from_y, to_x, to_y)\n",
    "    \n",
    "    # draw tip of arrow\n",
    "    angle = np.radians(90.0)\n",
    "    tip_length = 10\n",
    "    offset = np.sin(angle) * tip_length\n",
    "    \n",
    "    # up\n",
    "    if (dist == np.array([0, -1])).all():\n",
    "        canvas.stroke_line(to_x, to_y, to_x - offset, to_y + tip_length)\n",
    "        canvas.stroke_line(to_x, to_y, to_x + offset, to_y + tip_length)\n",
    "    \n",
    "    # down\n",
    "    elif (dist == np.array([0, +1])).all():\n",
    "        canvas.stroke_line(to_x, to_y, to_x - offset, to_y - tip_length)\n",
    "        canvas.stroke_line(to_x, to_y, to_x + offset, to_y - tip_length)\n",
    "        \n",
    "    # left\n",
    "    elif (dist == np.array([-1, 0])).all():\n",
    "        canvas.stroke_line(to_x, to_y, to_x + tip_length, to_y - offset)\n",
    "        canvas.stroke_line(to_x, to_y, to_x + tip_length, to_y + offset)\n",
    "        \n",
    "    elif (dist == np.array([+1, 0])).all():\n",
    "        canvas.stroke_line(to_x, to_y, to_x - tip_length, to_y - offset)\n",
    "        canvas.stroke_line(to_x, to_y, to_x - tip_length, to_y + offset)\n",
    "    \n",
    "    canvas.stroke_style = \"black\"\n",
    "    canvas.line_width = 1.0\n",
    "    \n",
    "def draw_puzzle_move(puzzle, move):\n",
    "        draw_puzzle(puzzle)\n",
    "        \n",
    "        empty_pos = np.argwhere(puzzle == 0)[0]\n",
    "        \n",
    "        if move == \"up\":\n",
    "            draw_arrow(empty_pos, (empty_pos[0], empty_pos[1] - 1))\n",
    "            \n",
    "        elif move == \"down\":\n",
    "            draw_arrow(empty_pos, (empty_pos[0], empty_pos[1] + 1))\n",
    "            \n",
    "        elif move == \"left\":\n",
    "            draw_arrow(empty_pos, (empty_pos[0] - 1, empty_pos[1]))\n",
    "            \n",
    "        elif move == \"right\":\n",
    "            draw_arrow(empty_pos, (empty_pos[0] + 1, empty_pos[1]))\n",
    "\n",
    "draw_puzzle_move(puzzle, \"right\")\n",
    "canvas"
   ]
  },
  {
   "cell_type": "code",
   "execution_count": 98,
   "id": "60f221c6",
   "metadata": {
    "scrolled": false
   },
   "outputs": [
    {
     "data": {
      "application/vnd.jupyter.widget-view+json": {
       "model_id": "b74385de981f4ea194002cb433029bdb",
       "version_major": 2,
       "version_minor": 0
      },
      "text/plain": [
       "Canvas(height=400, image_data=b'\\x89PNG\\r\\n\\x1a\\n\\x00\\x00\\x00\\rIHDR\\x00\\x00\\x01\\x90\\x00\\x00\\x01\\x90\\x08\\x06\\x0…"
      ]
     },
     "metadata": {},
     "output_type": "display_data"
    }
   ],
   "source": [
    "# save as drawing\n",
    "canvas_img1 = canvas.get_image_data()\n",
    "canvas.put_image_data(canvas_img1, 0, 0)\n",
    "canvas"
   ]
  },
  {
   "cell_type": "code",
   "execution_count": null,
   "id": "cd9917f5",
   "metadata": {},
   "outputs": [],
   "source": []
  }
 ],
 "metadata": {
  "kernelspec": {
   "display_name": "Python 3 (ipykernel)",
   "language": "python",
   "name": "python3"
  },
  "language_info": {
   "codemirror_mode": {
    "name": "ipython",
    "version": 3
   },
   "file_extension": ".py",
   "mimetype": "text/x-python",
   "name": "python",
   "nbconvert_exporter": "python",
   "pygments_lexer": "ipython3",
   "version": "3.9.7"
  }
 },
 "nbformat": 4,
 "nbformat_minor": 5
}
