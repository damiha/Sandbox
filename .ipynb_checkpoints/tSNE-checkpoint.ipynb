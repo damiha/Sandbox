{
 "cells": [
  {
   "cell_type": "code",
   "execution_count": null,
   "id": "701c91be",
   "metadata": {},
   "outputs": [],
   "source": [
    "# plot 2D of MNIST that is produced by PCA and different labels have different colors"
   ]
  },
  {
   "cell_type": "code",
   "execution_count": 1,
   "id": "136ade8a",
   "metadata": {},
   "outputs": [],
   "source": [
    "# plot t SNE embedding with labels"
   ]
  },
  {
   "cell_type": "code",
   "execution_count": null,
   "id": "ce9a5f48",
   "metadata": {},
   "outputs": [],
   "source": [
    "# plot t SNE optimization as a sequence of images (MANY BODY SIMULATION)"
   ]
  }
 ],
 "metadata": {
  "kernelspec": {
   "display_name": "Python 3 (ipykernel)",
   "language": "python",
   "name": "python3"
  },
  "language_info": {
   "codemirror_mode": {
    "name": "ipython",
    "version": 3
   },
   "file_extension": ".py",
   "mimetype": "text/x-python",
   "name": "python",
   "nbconvert_exporter": "python",
   "pygments_lexer": "ipython3",
   "version": "3.9.7"
  }
 },
 "nbformat": 4,
 "nbformat_minor": 5
}
