{
 "cells": [
  {
   "cell_type": "code",
   "execution_count": 9,
   "id": "5f24e7c0",
   "metadata": {},
   "outputs": [],
   "source": [
    "# wenn wir testen wollen, ob ein Element in einem Set oder einer Liste ist\n",
    "# haben wir zwei Moeglichkeiten\n",
    "\n",
    "# wir iterieren durch die ganze Liste, bis wir das Element gefunden haben (JA) oder am Ende angekommen sind (NEIN)\n",
    "# Laufzeit O(n), also sehr langsam\n",
    "\n",
    "# wir koennen eine Hashmap verwenden, die eine Hashfunktion verwendet und wenn kollidiert\n",
    "# dann z.B. lineares Sondieren durchfuehrt und wenn gar kein Platz mehr da ist expandiert\n",
    "# Laufzeit: O(1), aber Hashmap (array mit Int werten, damit man auch Kollisionen erkenne kann)\n",
    "# braucht sehr viel speicher (Problem, weil wir nur eine Hashfunktion haben)\n",
    "\n",
    "# Mit einem Bitset koennten wir speichern, ob ein Element in der Liste ist, aber wir koennten keine Kollisionen mehr erkennen\n",
    "# wenn h(8) und h(9) auf eine gesetzte Eins hashen, wissen wir nicht ob 8 oder 9 drin ist\n",
    "# wir koennten auch sagen, 8 auf position 8 und 9 auf position 9 und dann passiert sowas nicht\n",
    "# aber bitset waechst mit groesster zahl in liste (groesste zahl = 10^6 => wir brauchen 10^6 bits)\n",
    "\n",
    "# ein Bloomfilter kombiniert die Idee von Bitsets (Anwesenheit kompakt, aber viel Speicher)\n",
    "# mit Hashmaps (Anwesenheit aufwendiger und sondieren, aber geringerer Speicher)\n",
    "# indem ein Bitset und mehrere Hashfunktionen benutzt werden\n",
    "\n",
    "# Bloomfilter ist eine probabilistische Datenstruktur\n",
    "# kann im Gegensatz zu Hashmap fehler machen (also sagen Element ist schon gesehen worden, wenn noch nicht)\n",
    "\n",
    "import secrets\n",
    "import numpy as np\n",
    "\n",
    "def generate_hash_function(n_values):\n",
    "    random_bits = secrets.randbits(64)\n",
    "    return lambda x : hash(x ^ random_bits) % n_values"
   ]
  },
  {
   "cell_type": "code",
   "execution_count": 21,
   "id": "5a6c2690",
   "metadata": {},
   "outputs": [],
   "source": [
    "# dieser Bloom filter funktioniert wie ein probabilistisches Hashset\n",
    "# Wahrscheinlichkeit fuer Fehler wird hoeher, je mehr Items eingefuegt werden\n",
    "# Fehlerwahrscheinlichkeit wird geringer, je mehr Hashfunktionen (k) oder Speicher (m) man verwendet\n",
    "\n",
    "class BloomFilter:\n",
    "    # m ist groesste des Bitsets, also m bits\n",
    "    # k ist anzahl der Hashfunktionen\n",
    "    def __init__(self, m, k):\n",
    "        self.m = m\n",
    "        self.k = k\n",
    "        \n",
    "        self.hash_functions = [generate_hash_function(m) for i in range(k)]\n",
    "        self.bit_vector = np.zeros(m)\n",
    "        \n",
    "        # extension for remove operation\n",
    "        self.bit_vector_removed = np.zeros(m)\n",
    "        \n",
    "    def insert(self, value):\n",
    "        indices_set = [h(value) for h in self.hash_functions]\n",
    "        self.bit_vector[indices_set] = 1\n",
    "        \n",
    "    def remove(self, value):\n",
    "        # can only remove something if its contained\n",
    "        if self.contains(value):\n",
    "            indices_set = [h(value) for h in self.hash_functions]\n",
    "            self.bit_vector_removed[indices_set] = 1\n",
    "        \n",
    "    def contains(self, value):\n",
    "        indices_set = [h(value) for h in self.hash_functions]\n",
    "        return np.sum(self.bit_vector[indices_set]) == self.k and np.sum(self.bit_vector_removed[indices_set]) != self.k"
   ]
  },
  {
   "cell_type": "code",
   "execution_count": 32,
   "id": "b5a10fec",
   "metadata": {},
   "outputs": [
    {
     "name": "stdout",
     "output_type": "stream",
     "text": [
      "Bit vector of bloom filter:  [0. 0. 1. 0. 1. 0. 0. 1. 0. 0. 0. 0. 1. 0. 0. 1. 0. 1. 0. 0.]\n",
      "False Positives per 1000 test cases: 0.025\n"
     ]
    }
   ],
   "source": [
    "bloom_filter = BloomFilter(m=20, k=3)\n",
    "\n",
    "bloom_filter.insert(8)\n",
    "bloom_filter.insert(7)\n",
    "\n",
    "assert(bloom_filter.contains(8))\n",
    "assert(bloom_filter.contains(7))\n",
    "assert(bloom_filter.contains(6) == False)\n",
    "\n",
    "bloom_filter.remove(8)\n",
    "assert(bloom_filter.contains(8) == False)\n",
    "assert(bloom_filter.contains(7))\n",
    "\n",
    "print(\"Bit vector of bloom filter: \", bloom_filter.bit_vector)\n",
    "\n",
    "errors = 0\n",
    "test_cases = 1000\n",
    "\n",
    "for i in range(10, 10 + test_cases):\n",
    "    if bloom_filter.contains(i):\n",
    "        errors += 1\n",
    "        \n",
    "print(f\"False Positives per {test_cases} test cases: {errors / test_cases}\")"
   ]
  },
  {
   "cell_type": "code",
   "execution_count": null,
   "id": "79c72108",
   "metadata": {},
   "outputs": [],
   "source": []
  }
 ],
 "metadata": {
  "kernelspec": {
   "display_name": "Python 3 (ipykernel)",
   "language": "python",
   "name": "python3"
  },
  "language_info": {
   "codemirror_mode": {
    "name": "ipython",
    "version": 3
   },
   "file_extension": ".py",
   "mimetype": "text/x-python",
   "name": "python",
   "nbconvert_exporter": "python",
   "pygments_lexer": "ipython3",
   "version": "3.9.7"
  }
 },
 "nbformat": 4,
 "nbformat_minor": 5
}
