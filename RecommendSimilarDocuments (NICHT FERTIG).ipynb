{
 "cells": [
  {
   "cell_type": "markdown",
   "id": "400948ab",
   "metadata": {},
   "source": [
    "1. User kann neues Dokument eingeben und wird dann geshingelt\n",
    "\n",
    "2. Ein Datensatz von Dokumenten (z.B. Buechern) wird geshingelt (Dokument zu Set) und dann werden die Sets zu Signaturen konvertiert\n",
    "\n",
    "3. Finde Dokumente, die hohe Jaccard-Similarity zu Query-Objekt haben und gib sie aus\n",
    "\n",
    "4. Mache Paare (alle Paare, die hohe Jaccard gleichheit haben werden ausgegeben) mit LSH und Subbands\n",
    "\n",
    "5. plotte den aehnlichkeitsgraphen (Kante, wenn zwei Dokumente aehnlich sind)"
   ]
  }
 ],
 "metadata": {
  "kernelspec": {
   "display_name": "Python 3 (ipykernel)",
   "language": "python",
   "name": "python3"
  },
  "language_info": {
   "codemirror_mode": {
    "name": "ipython",
    "version": 3
   },
   "file_extension": ".py",
   "mimetype": "text/x-python",
   "name": "python",
   "nbconvert_exporter": "python",
   "pygments_lexer": "ipython3",
   "version": "3.9.7"
  }
 },
 "nbformat": 4,
 "nbformat_minor": 5
}
