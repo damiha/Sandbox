{
 "cells": [
  {
   "cell_type": "code",
   "execution_count": 3,
   "id": "4880d442",
   "metadata": {},
   "outputs": [],
   "source": [
    "# nimmt einen englischen satz, der ohne leerzeichen steht und fuegt sie ein\n",
    "import numpy as np\n",
    "\n",
    "words_txt = \"\"\n",
    "words = []\n",
    "\n",
    "with open(\"words.txt\") as f:\n",
    "    words_txt = f.read().replace(\"\\n\", \" \")\n",
    "    words = words_txt.split(\" \")\n",
    "    words = list(filter(lambda w: len(w) > 0, words))\n",
    "    words = list(map(lambda w: w.lower(), words))"
   ]
  },
  {
   "cell_type": "code",
   "execution_count": 13,
   "id": "e9934f38",
   "metadata": {},
   "outputs": [],
   "source": [
    "def insert_spaces(sentence):\n",
    "    \n",
    "    # standardisieren, damit man in wortliste finden kann\n",
    "    sentence = sentence.lower()\n",
    "    \n",
    "    n = len(sentence)\n",
    "    # beim minimieren sollte man alles zu anfang auf unendlich setzen\n",
    "    opt = np.inf * np.ones(n + 1)\n",
    "    \n",
    "    # ein wort ohne buchstaben verursacht keine kosten, wenn man leerzeichen einfuegt\n",
    "    opt[0] = 0\n",
    "        \n",
    "    for i in range(1, n+1):\n",
    "        \n",
    "        # finde eine fruehere position j, an der das wort beginnt\n",
    "        for j in range(1, i + 1):\n",
    "            \n",
    "            extracted_word = sentence[j-1: i]\n",
    "            cost_for_word = 0 if extracted_word in words else 1\n",
    "            cost_for_new_space = opt[j-1] + cost_for_word\n",
    "            \n",
    "            #print(f\"extracted word: {extracted_word}, cost: {cost_for_word}\")\n",
    "            \n",
    "            opt[i] = min(opt[i], cost_for_new_space)\n",
    "    \n",
    "    # rekonstruiere, wo die spaces eingefuegt wurden\n",
    "    extracted_words = []\n",
    "    \n",
    "    curr = n\n",
    "    \n",
    "    while curr > 0:\n",
    "        \n",
    "        # finde position an der abgetrennt wurde\n",
    "        for j in range(1, curr + 1):\n",
    "            \n",
    "            extracted_word = sentence[j-1:curr]\n",
    "            cost_for_word = len(extracted_word) if extracted_word not in words else 0\n",
    "            cost_for_space = cost_for_word + opt[j-1]\n",
    "            \n",
    "            if cost_for_space == opt[curr]:\n",
    "                \n",
    "                extracted_words.insert(0, extracted_word)\n",
    "                curr = j-1\n",
    "                break\n",
    "    \n",
    "    sentence_with_spaces = \"\"\n",
    "    \n",
    "    for i, word in enumerate(extracted_words):\n",
    "        sentence_with_spaces += word\n",
    "        if i < len(extracted_words) - 1:\n",
    "            sentence_with_spaces += \" \"\n",
    "    \n",
    "    return sentence_with_spaces"
   ]
  },
  {
   "cell_type": "code",
   "execution_count": 14,
   "id": "283a3fb4",
   "metadata": {},
   "outputs": [
    {
     "data": {
      "text/plain": [
       "'my fellow americans'"
      ]
     },
     "execution_count": 14,
     "metadata": {},
     "output_type": "execute_result"
    }
   ],
   "source": [
    "insert_spaces(\"myfellowamericans\")"
   ]
  },
  {
   "cell_type": "code",
   "execution_count": 15,
   "id": "4d5afed4",
   "metadata": {},
   "outputs": [
    {
     "data": {
      "text/plain": [
       "'i have never been in germany'"
      ]
     },
     "execution_count": 15,
     "metadata": {},
     "output_type": "execute_result"
    }
   ],
   "source": [
    "insert_spaces(\"ihaveneverbeeningermany\")"
   ]
  },
  {
   "cell_type": "code",
   "execution_count": 16,
   "id": "5b2cb626",
   "metadata": {},
   "outputs": [
    {
     "data": {
      "text/plain": [
       "'lawyers are awesome'"
      ]
     },
     "execution_count": 16,
     "metadata": {},
     "output_type": "execute_result"
    }
   ],
   "source": [
    "insert_spaces(\"lawyersareawesome\")"
   ]
  },
  {
   "cell_type": "code",
   "execution_count": 17,
   "id": "62aa36bf",
   "metadata": {},
   "outputs": [
    {
     "data": {
      "text/plain": [
       "'i have never bee nh ap pi er'"
      ]
     },
     "execution_count": 17,
     "metadata": {},
     "output_type": "execute_result"
    }
   ],
   "source": [
    "insert_spaces('ihaveneverbeenhappier')"
   ]
  },
  {
   "cell_type": "markdown",
   "id": "7b635275",
   "metadata": {},
   "source": [
    "Der Inserter kann nicht erkennen, dass manche Woerter im Zusammenhang keinen Sinn ergeben. Ausserdem sind alle Buchstaben als einzelne Woerter auch enthalten.\n",
    "\n",
    "Verbesserungen:\n",
    "- arbeite mit Haufigkeiten pro Wort und waehle Haeufigstes aus\n",
    "- filtere einzelne Buchstaben raus"
   ]
  }
 ],
 "metadata": {
  "kernelspec": {
   "display_name": "Python 3 (ipykernel)",
   "language": "python",
   "name": "python3"
  },
  "language_info": {
   "codemirror_mode": {
    "name": "ipython",
    "version": 3
   },
   "file_extension": ".py",
   "mimetype": "text/x-python",
   "name": "python",
   "nbconvert_exporter": "python",
   "pygments_lexer": "ipython3",
   "version": "3.9.7"
  }
 },
 "nbformat": 4,
 "nbformat_minor": 5
}
