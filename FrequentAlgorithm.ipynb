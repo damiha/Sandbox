{
 "cells": [
  {
   "cell_type": "code",
   "execution_count": 20,
   "id": "7a79df2a",
   "metadata": {},
   "outputs": [],
   "source": [
    "# we are given a list of items from 1...n\n",
    "# find a subset of items s.t. every number appears with frequency > 1/k (k = 2, item shows up more than half of the time)\n",
    "# this is done approximately using the Misra-Gries algorithm\n",
    "\n",
    "# return the k-1 items with the highest total counts\n",
    "# if k = 2, only keep one with highest relative count\n",
    "\n",
    "# Misra Gries is just the Majority Algorithm for more than one candidate\n",
    "# NOTE: this just gives us a SUPERSET of the final answer\n",
    "# but we can compute the true frequencies in a second pass\n",
    "def misra_gries(elements, k):\n",
    "    \n",
    "    T = set()\n",
    "    # store the counts of the k-1 most frequent items so far (the VIPs)\n",
    "    counts = dict()\n",
    "    \n",
    "    for element in elements:\n",
    "        # item is a VIP\n",
    "        if element in T:\n",
    "            counts[element] = counts[element] + 1\n",
    "            \n",
    "        # item is not a VIP but there is space left\n",
    "        elif len(T) < k-1:\n",
    "            T.add(element)\n",
    "            counts[element] = 1\n",
    "            \n",
    "        else:\n",
    "            # the item is not a VIP but appears\n",
    "            # so all the VIPs must feel really bad\n",
    "            remove_those = []\n",
    "            \n",
    "            for vip in T:\n",
    "                counts[vip] = counts[vip] - 1\n",
    "                \n",
    "                # doesnt deserve to be a vip anymor\n",
    "                if counts[vip] == 0:\n",
    "                    remove_those.append(vip)\n",
    "                    \n",
    "            for item in remove_those:\n",
    "                T.remove(item)\n",
    "                    \n",
    "    return T\n",
    "\n",
    "def heavy_hitters(elements, k):\n",
    "    \n",
    "    n = len(elements)\n",
    "    k_reduced_bag = misra_gries(elements, k)\n",
    "    \n",
    "    counts = dict()\n",
    "    \n",
    "    for element in elements:\n",
    "        if element in k_reduced_bag:\n",
    "            if element in counts.keys():\n",
    "                counts[element] = counts[element] + 1\n",
    "            else:\n",
    "                counts[element] = 1\n",
    "    \n",
    "    final_answer = set()\n",
    "    \n",
    "    for key in counts.keys():\n",
    "        if counts[key] >= (n / k):\n",
    "            final_answer.add(key)\n",
    "            \n",
    "    return final_answer"
   ]
  },
  {
   "cell_type": "code",
   "execution_count": 21,
   "id": "f0d3044b",
   "metadata": {},
   "outputs": [
    {
     "name": "stdout",
     "output_type": "stream",
     "text": [
      "Misra Gries:  {1}\n",
      "Heavy hitters:  {1}\n",
      "Misra Gries:  {1}\n",
      "Heavy hitters:  {1}\n",
      "Misra Gries:  {1, 2, 3}\n",
      "Heavy hitters:  {1}\n"
     ]
    }
   ],
   "source": [
    "elements = [1, 1, 1, 2, 2, 1, 3, 3, 1]\n",
    "\n",
    "# k = 3 => total count must be >= 9/3 = 3\n",
    "# only satisfied by 1\n",
    "print(\"Misra Gries: \", misra_gries(elements, k=3))\n",
    "print(\"Heavy hitters: \", heavy_hitters(elements, k=3))\n",
    "\n",
    "# item makes up absolute majority\n",
    "# 1 has 5/9 frequency\n",
    "print(\"Misra Gries: \", misra_gries(elements, k=2))\n",
    "print(\"Heavy hitters: \", heavy_hitters(elements, k=2))\n",
    "\n",
    "\n",
    "# items have to have count 9/4 >= 2.25\n",
    "# both 2 and 3 only have to but misra_gries is an approximation of\n",
    "# the elements whose frequency exceeds 1/k\n",
    "print(\"Misra Gries: \", misra_gries(elements, k=4))\n",
    "print(\"Heavy hitters: \", heavy_hitters(elements, k=4))\n"
   ]
  },
  {
   "cell_type": "code",
   "execution_count": null,
   "id": "2cceb6ca",
   "metadata": {},
   "outputs": [],
   "source": []
  }
 ],
 "metadata": {
  "kernelspec": {
   "display_name": "Python 3 (ipykernel)",
   "language": "python",
   "name": "python3"
  },
  "language_info": {
   "codemirror_mode": {
    "name": "ipython",
    "version": 3
   },
   "file_extension": ".py",
   "mimetype": "text/x-python",
   "name": "python",
   "nbconvert_exporter": "python",
   "pygments_lexer": "ipython3",
   "version": "3.9.7"
  }
 },
 "nbformat": 4,
 "nbformat_minor": 5
}
